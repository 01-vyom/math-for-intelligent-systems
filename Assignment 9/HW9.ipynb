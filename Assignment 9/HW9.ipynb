{
 "cells": [
  {
   "cell_type": "code",
   "execution_count": 3,
   "metadata": {},
   "outputs": [
    {
     "name": "stdout",
     "output_type": "stream",
     "text": [
      "S value using SVD: \n",
      "[2.6720057339543923, 0.8016463946495971, 0.49217309001116744]\n",
      "S value using QRSVD: \n",
      "[1.865710086122108, 0.6245068051272025, 0.3502893029168897]\n",
      "\n",
      "V value by SVD function: \n",
      "[-0.6412184511271937 0.7400161485770496 -0.20301477231776238; -0.5515593213119188 -0.6284056750360019 -0.5485331554760222; -0.5334990281228054 -0.2397548903103684 0.8111081182951416]\n",
      "V value by QRSVD function: \n",
      "[0.7623617022509794 0.4245479050388829 -0.4884298427288046; -0.5430898885043743 0.009265828703725082 -0.8396234378712512; -0.35193466431327197 0.9053580621751431 0.23763158735567055]\n",
      "\n",
      "U value by SVD function: \n",
      "[-0.2936025293437453 0.3876290637426372 0.6298246833064968; -0.29697489116194814 0.5083933050493497 -0.0009750428859318164; -0.5027940000109853 0.05852296897377848 -0.6162617901277659; -0.3288850836648491 -0.21451851885827908 -0.25998138947395116; -0.4210126763990929 -0.7208736386410062 0.38419230269711574; -0.5360826339187785 0.1489228679713926 0.0913634242640073]\n",
      "U value by QRSVD function: \n",
      "[-0.436600636653543 0.872088673234636 -0.06641570821262836; -0.4921347705637104 -0.057865422817530786 0.6441313944554258; -0.4834289190905406 -0.28832332849628595 -0.23455903204478895; -0.56779873048189 -0.3386660512859727 -0.41491003919040476; -0.10432550379552213 -0.19424091173263638 0.5558146871677854; -0.01416060676108409 -0.02362987554901347 0.211152678821105]\n",
      "\n"
     ]
    }
   ],
   "source": [
    "using LinearAlgebra\n",
    "A = rand(6,3);\n",
    "USV = svd(A);\n",
    "U_org = USV.U;\n",
    "S_org = USV.S;\n",
    "V_org = USV.V;\n",
    "A = rand(6,3);\n",
    "N = 100000\n",
    "q0, r0 = qr(A)\n",
    "r0[1,1] = abs(r0[1,1])\n",
    "r0[2,2] = abs(r0[2,2])\n",
    "r0[3,3] = abs(r0[3,3])\n",
    "rarr = []\n",
    "qarr = []\n",
    "append!(rarr, [r0])\n",
    "append!(qarr, [q0])\n",
    "for k in  1:N\n",
    "    q,r = qr(rarr[k]')\n",
    "    append!(rarr, [r])\n",
    "    append!(qarr, [q])\n",
    "end\n",
    "\n",
    "z = zeros(3,3)\n",
    "U = qarr[1]\n",
    "V = [qarr[2] z; z z]\n",
    "for k in 3:N+1\n",
    "    if k%2 == 1\n",
    "        U *= [qarr[k] z; z z]\n",
    "    else\n",
    "        V *= [qarr[k] z; z z]\n",
    "    end\n",
    "end\n",
    "S = rarr[N+1];\n",
    "\n",
    "println(\"S value using SVD: \");\n",
    "println(S_org);\n",
    "D = Diagonal(S);\n",
    "S = [D[1,1], D[2,2], D[3,3]]; \n",
    "println(\"S value using QRSVD: \");\n",
    "println(S);\n",
    "println();\n",
    "println(\"V value by SVD function: \");\n",
    "println(V_org);\n",
    "V = V[1:3,1:3];\n",
    "println(\"V value by QRSVD function: \");\n",
    "println(V);\n",
    "println();\n",
    "println(\"U value by SVD function: \");\n",
    "println(U_org);\n",
    "U = U[:,1:3];\n",
    "println(\"U value by QRSVD function: \");\n",
    "println(U);\n",
    "println();"
   ]
  },
  {
   "cell_type": "code",
   "execution_count": null,
   "metadata": {},
   "outputs": [],
   "source": []
  }
 ],
 "metadata": {
  "kernelspec": {
   "display_name": "Julia 1.6.2",
   "language": "julia",
   "name": "julia-1.6"
  },
  "language_info": {
   "file_extension": ".jl",
   "mimetype": "application/julia",
   "name": "julia",
   "version": "1.6.2"
  },
  "orig_nbformat": 4
 },
 "nbformat": 4,
 "nbformat_minor": 2
}
